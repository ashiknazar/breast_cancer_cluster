{
 "cells": [
  {
   "cell_type": "markdown",
   "id": "bd538b27-38ab-48dc-97d2-3c95569267e3",
   "metadata": {},
   "source": [
    "# Breast Cancer Types and Explanations\n",
    "\n",
    "### 1. What is **Breast Invasive Ductal Carcinoma (IDC)?**\n",
    "- **Overview**: This is the most common type of breast cancer, accounting for about 80% of cases.\n",
    "- **Characteristics**: The cancer begins in the milk ducts (which carry milk from the lobules to the nipple) and invades surrounding breast tissue.\n",
    "- **Behavior**: It can spread to other parts of the body if not treated.\n",
    "- **Diagnosis**: Often detected through mammograms and confirmed with a biopsy.\n",
    "\n",
    "### 2. What is **Breast Mixed Ductal and Lobular Carcinoma**?\n",
    "- **Overview**: A combination of invasive ductal carcinoma (IDC) and invasive lobular carcinoma (ILC).\n",
    "- **Characteristics**: The tumor contains both ductal and lobular cancer cells, making it a mixed type.\n",
    "- **Behavior**: It shares features of both IDC and ILC, meaning it can start in either the milk ducts or lobules but spreads to surrounding tissues.\n",
    "\n",
    "### 3. What is **Breast Invasive Lobular Carcinoma (ILC)?**\n",
    "- **Overview**: The second most common type of breast cancer, accounting for around 10% of cases.\n",
    "- **Characteristics**: This cancer begins in the lobules (the milk-producing glands) and invades nearby breast tissue.\n",
    "- **Behavior**: It tends to grow in a more diffuse pattern, making it harder to detect on a physical exam or imaging.\n",
    "  \n",
    "### 4. What is **Breast Invasive Mixed Mucinous Carcinoma**?\n",
    "- **Overview**: A rare form of breast cancer consisting of two components: mucinous carcinoma and another invasive type, usually IDC.\n",
    "- **Characteristics**: Mucinous carcinoma is characterized by cancer cells floating in mucin, making the tumor soft and gelatinous.\n",
    "- **Behavior**: Pure mucinous carcinoma has a better prognosis, but mixed forms are more aggressive.\n",
    "\n",
    "### 5. What does **\"Breast (Non-Specific)\"** mean?\n",
    "- **Overview**: Refers to cases where the specific type of breast cancer has not been categorized or identified.\n",
    "- **Characteristics**: Could refer to any form of breast cancer where histological details are missing.\n",
    "- **Behavior**: Requires further analysis to determine the specific type.\n",
    "\n",
    "### 6. What is **Metaplastic Breast Cancer**?\n",
    "- **Overview**: A rare and aggressive form of breast cancer.\n",
    "- **Characteristics**: Cancer cells undergo transformation into different types, such as squamous cells, or cells resembling bone or muscle tissue.\n",
    "- **Behavior**: Grows rapidly and can be resistant to conventional treatments like chemotherapy.\n",
    "\n",
    "---\n",
    "\n"
   ]
  },
  {
   "cell_type": "markdown",
   "id": "2a5ddba8-169e-4833-a974-be9a99886b60",
   "metadata": {},
   "source": [
    "# Cellularity in Cancer Dataset\n",
    "\n",
    "**Cellularity** refers to the proportion or amount of cancer cells present in a tissue sample compared to normal cells. It is a key histopathological feature used to evaluate tumors and plays an important role in diagnosing and determining the aggressiveness of cancer.\n",
    "\n",
    "### Key Points:\n",
    "- **High Cellularity**: A higher number of cancer cells compared to normal cells. This often indicates a more aggressive tumor.\n",
    "- **Low Cellularity**: Fewer cancer cells compared to normal tissue. This can indicate a less aggressive tumor or that the cancerous tissue has been treated or affected by the body's immune response.\n",
    "\n",
    "### In a Cancer Dataset:\n",
    "- **Cellularity** is often recorded as a percentage or a categorical value (e.g., low, moderate, high).\n",
    "- **Usage**: It helps in understanding the tumor's composition and can inform treatment decisions, especially when comparing pre- and post-treatment samples to assess the effectiveness of therapies.\n",
    "\n",
    "### Example in Breast Cancer:\n",
    "In breast cancer, cellularity can be used to assess how many cancer cells remain in a tumor sample after treatment, which helps determine the effectiveness of therapies like chemotherapy (e.g., residual cancer cellularity).\n",
    "\n",
    "___\n"
   ]
  },
  {
   "cell_type": "markdown",
   "id": "14f2131d-27ee-4995-828f-458e4395c474",
   "metadata": {},
   "source": [
    "When we refer to **\"A hormone receptor-positive (ER/PR+) subtype\"** in the context of breast cancer, it means that the cancer cells have receptors (proteins) for certain hormones, specifically estrogen (ER) and/or progesterone (PR). These receptors are critical because they allow the hormones to bind to the cancer cells and stimulate their growth. Let's break it down further:\n",
    "\n",
    "### **Hormone Receptor-Positive (ER/PR+):**\n",
    "- **Estrogen Receptor-Positive (ER+):** Cancer cells that have receptors for estrogen. When estrogen binds to these receptors, it can promote the growth and proliferation of cancer cells.\n",
    "  \n",
    "- **Progesterone Receptor-Positive (PR+):** Cancer cells that have receptors for progesterone. Similar to estrogen, progesterone binding can also encourage cancer cell growth.\n",
    "\n",
    "### **Subtype:**\n",
    "In this case, **Luminal A** is a specific subtype of breast  that is both **ER+** and/or **PR+**, meaning that the growth of these tumors is often driven by hormones like estrogen and progesterone. **Luminal A** tumors tend to:\n",
    "- Grow more slowly.\n",
    "- Have a better prognosis (better outcomes) than other subtypes.\n",
    "- Respond well to hormone therapies like **tamoxifen** or **aromatase inhibitors**, which block the hormone receptors or reduce hormone production to slow the cancer's growth.\n",
    "In short, calling Luminal A a \"hormone receptor-positive (ER/PR+)\" subtype means that these cancer cells grow in response to estrogen and/or progesterone, and treatments can target these receptors to slow or stop the cancer.\n",
    "___\n"
   ]
  },
  {
   "cell_type": "markdown",
   "id": "98dcfd94-a8f5-4464-af1a-42449bcc253e",
   "metadata": {},
   "source": [
    "### ER Status (Estrogen Receptor Status)\n",
    "Refers to whether the cancer cells have receptors for the hormone estrogen. If they do, the cancer is classified as **ER-positive (ER+)**; if not, it's **ER-negative (ER-)**.\n",
    "___"
   ]
  },
  {
   "cell_type": "markdown",
   "id": "baa32909-afb5-4c78-b53e-de9b8de41a4f",
   "metadata": {},
   "source": [
    "**Neoplasm histologic grade** refers to a classification system used to describe the appearance of cancer cells under a microscope, which helps indicate how aggressive the tumor is likely to be. The grades typically range from 1 to 3:\n",
    "\n",
    "### Breakdown of Histologic Grades:\n",
    "\n",
    "- **Grade 1 (Well-Differentiated):**\n",
    "  - Cancer cells look similar to normal cells.\n",
    "  - They tend to grow slowly and are usually less aggressive.\n",
    "  - Generally associated with a better prognosis.\n",
    "\n",
    "- **Grade 2 (Moderately Differentiated):**\n",
    "  - Cancer cells have some features of normal cells but also show more abnormal characteristics.\n",
    "  - They grow at a moderate rate and can be more aggressive than grade 1 tumors.\n",
    "  - Prognosis is intermediate.\n",
    "\n",
    "- **Grade 3 (Poorly Differentiated):**\n",
    "  - Cancer cells appear very abnormal and do not resemble normal cells.\n",
    "  - They tend to grow and spread more quickly, making them more aggressive.\n",
    "  - Generally associated with a poorer prognosis.\n",
    "\n",
    "___"
   ]
  },
  {
   "cell_type": "markdown",
   "id": "6e2bc77f-3456-4b0e-b79b-1370fc62f2b9",
   "metadata": {},
   "source": [
    "### What is a Cohort?\n",
    "\n",
    "A **cohort** in research and studies refers to a group of individuals who share a common characteristic or experience over a certain period of time. Cohorts are often used in medical, social, and observational studies to track how different variables affect the group.\n",
    "___"
   ]
  },
  {
   "cell_type": "markdown",
   "id": "044f76ee-1424-41db-89ae-a7ce913806fa",
   "metadata": {},
   "source": [
    "### HER2 Status\n",
    "\n",
    "**`her2_status`** refers to whether the breast cancer tumor tests positive or negative for **HER2 (Human Epidermal Growth Factor Receptor 2)**, a protein that can promote the growth of cancer cells.\n",
    "\n",
    "#### Possible Values:\n",
    "- **Negative:** The tumor does not overexpress the HER2 protein. This type of cancer typically does not respond to treatments specifically targeting HER2, such as trastuzumab (Herceptin).\n",
    "  \n",
    "- **Positive:** The tumor has an overexpression or amplification of the HER2 protein. **HER2-positive** breast cancers are usually more aggressive, but they respond well to targeted therapies like **Herceptin** and other anti-HER2 treatments.\n",
    "\n",
    "---\n",
    "\n",
    "### HER2 Status Measured by SNP6\n",
    "\n",
    "**`her2_status_measured_by_snp6`** refers to the **HER2 status** of a breast cancer tumor determined by using **SNP6 (Single Nucleotide Polymorphism Array 6.0)**. This method can measure changes in gene copy numbers, such as gains or losses of genes, including **HER2**, a gene often involved in breast cancer.\n",
    "\n",
    "#### Possible Values:\n",
    "- **NEUTRAL:** No significant change in the copy number of the HER2 gene (normal gene expression).\n",
    "- **LOSS:** A reduction in the copy number of the HER2 gene, indicating fewer copies than usual.\n",
    "- **GAIN:** An increase in the copy number of the HER2 gene, which can suggest HER2 amplification, often associated with HER2-positive breast cancer.\n",
    "- **UNDEF:** The HER2 status could not be definitively determined from the SNP6 test.\n",
    "\n",
    "These values provide insights into the genetic status of HER2, which helps guide treatment decisions, especially when considering therapies targeting HER2.\n",
    "___"
   ]
  },
  {
   "cell_type": "markdown",
   "id": "62d7cb15-efdf-4148-818e-c778fa8171a0",
   "metadata": {},
   "source": [
    "### Tumor Other Histologic Subtype\n",
    "\n",
    "**Tumor histologic subtype** refers to the classification of a tumor based on the appearance and characteristics of the cancer cells under a microscope. Different subtypes can have varying behaviors, growth patterns, and responses to treatment. The **tumor_other_histologic_subtype** includes various breast cancer subtypes beyond the most common classifications.\n",
    "\n",
    "#### Breakdown of Tumor Histologic Subtypes:\n",
    "\n",
    "- **Ductal/NST (No Special Type):**\n",
    "  - The most common subtype of breast cancer, also known as **Invasive Ductal Carcinoma (IDC)**.\n",
    "  - It starts in the milk ducts and can spread to surrounding breast tissue.\n",
    "  \n",
    "- **Mixed:**\n",
    "  - A combination of more than one histologic subtype (e.g., ductal and lobular components).\n",
    "\n",
    "- **Lobular:**\n",
    "  - Refers to **Invasive Lobular Carcinoma (ILC)**, which starts in the milk-producing lobules.\n",
    "  - This type often has a different growth pattern and can be harder to detect.\n",
    "\n",
    "- **Tubular/Cribriform:**\n",
    "  - **Tubular carcinoma**: A rare, slow-growing subtype with tube-shaped structures.\n",
    "  - **Cribriform carcinoma**: Characterized by cancer cells arranged in a sieve-like pattern.\n",
    "\n",
    "- **Mucinous:**\n",
    "  - Also called **colloid carcinoma**, this subtype produces mucus and tends to be less aggressive than other forms of breast cancer.\n",
    "\n",
    "- **Medullary:**\n",
    "  - A rare subtype that has distinct boundaries and often involves immune cells in the tumor.\n",
    "  - Though aggressive in appearance, it often has a better prognosis.\n",
    "\n",
    "- **Other:**\n",
    "  - This category includes less common histologic subtypes that don’t fit into the major categories.\n",
    "\n",
    "- **Metaplastic:**\n",
    "  - A rare and aggressive form of breast cancer that can have a mixture of cell types, such as squamous cells or cells that resemble bone or cartilage.\n",
    "  \n",
    "- **NaN (Not a Number):**\n",
    "  - Missing or unavailable data for the subtype classification.\n",
    "___"
   ]
  },
  {
   "cell_type": "markdown",
   "id": "d019fdd6-a064-4f31-8810-5b07734e2fb4",
   "metadata": {},
   "source": [
    "### Inferred Menopausal State\n",
    "\n",
    "**`inferred_menopausal_state`** refers to the determination of a woman's menopausal status based on clinical or demographic data. This information is important in breast cancer research and treatment, as hormonal status can influence tumor characteristics and treatment options.\n",
    "\n",
    "#### Possible Values:\n",
    "- **Post:** Indicates that the woman is postmenopausal, meaning she has not had a menstrual period for 12 consecutive months. This can affect hormone levels and is associated with changes in breast cancer risk and treatment approaches.\n",
    "\n",
    "- **Pre:** Indicates that the woman is premenopausal, meaning she is still having regular menstrual cycles. This status is crucial for understanding hormone-related cancers and determining suitable treatment strategies.\n",
    "___\n"
   ]
  },
  {
   "cell_type": "markdown",
   "id": "8677e53a-fb1e-4474-b77b-479c5ea36982",
   "metadata": {},
   "source": [
    "### Integrative Cluster\n",
    "\n",
    "**`integrative_cluster`** refers to the classification of tumors based on integrative genomic analyses that consider various biological factors. This classification helps to identify distinct subtypes of breast cancer with differing prognoses and potential treatment responses.\n",
    "\n",
    "#### Possible Values:\n",
    "- **4ER+:** This cluster indicates tumors that are estrogen receptor-positive (ER+), suggesting a better prognosis and responsiveness to hormone therapies.\n",
    "- **3, 5, 6, 7, 8, 9, 10, 1, 2:** These numbers represent different integrative clusters identified through genomic analysis. Each cluster may reflect unique biological characteristics and clinical behaviors of the tumors. Specific details about each number would typically require further context from the dataset or associated studies.\n",
    "- **4ER-:** Indicates tumors that are estrogen receptor-negative (ER-), often associated with more aggressive behavior and different treatment approaches.\n",
    "___"
   ]
  },
  {
   "cell_type": "markdown",
   "id": "bdfdf1e0-264b-4ad3-be9e-a77a2a09478a",
   "metadata": {},
   "source": [
    "### Primary Tumor Laterality\n",
    "\n",
    "**`primary_tumor_laterality`** refers to the side of the body where the primary tumor is located. This information helps in tracking tumor development, treatment planning, and understanding any potential patterns of cancer occurrence in either the right or left breast.\n",
    "\n",
    "#### Possible Values:\n",
    "- **Right:** The tumor is located in the right breast.\n",
    "- **Left:** The tumor is located in the left breast.\n",
    "- **NaN:** Data regarding the laterality of the tumor is missing or unavailable.\n",
    "___"
   ]
  },
  {
   "cell_type": "markdown",
   "id": "1ead0965-3c36-4caa-b4c6-bdf51ac7e612",
   "metadata": {},
   "source": [
    "### Lymph Nodes Examined Positive\n",
    "\n",
    "**`lymph_nodes_examined_positive`** refers to the number of lymph nodes that were found to contain cancer cells after being surgically removed and examined under a microscope. This is an important indicator of whether the cancer has spread beyond the primary tumor, and it plays a crucial role in staging the disease and determining prognosis and treatment.\n",
    "\n",
    "#### Key Points:\n",
    "- A **higher number** of positive lymph nodes typically indicates that the cancer is more likely to have spread, which may be associated with a more aggressive disease and a poorer prognosis.\n",
    "- A **lower number** or **zero** positive lymph nodes suggests that the cancer has not spread significantly, often associated with a better prognosis.\n",
    "___"
   ]
  },
  {
   "cell_type": "markdown",
   "id": "ee74d759-8605-4f95-b999-ff3336c7cad0",
   "metadata": {},
   "source": [
    "### Mutation Count\n",
    "\n",
    "**`mutation_count`** refers to the total number of genetic mutations identified within a tumor sample. These mutations can provide insight into the tumor's genetic profile, behavior, and potential treatment responses. A higher mutation count may suggest a more genetically unstable tumor, which can affect prognosis and treatment strategies.\n",
    "\n",
    "#### Key Points:\n",
    "- **Higher mutation count**: Tumors with a large number of mutations may indicate a higher degree of genomic instability, potentially making the tumor more aggressive. However, in some cases, it can also make the tumor more susceptible to immunotherapies.\n",
    "- **Lower mutation count**: Tumors with fewer mutations may suggest more genetic stability, potentially leading to different treatment responses and a different prognosis.\n",
    "___"
   ]
  },
  {
   "cell_type": "markdown",
   "id": "fe88b872-0197-4ca1-9288-8a6a937a8474",
   "metadata": {},
   "source": [
    "### Nottingham Prognostic Index (NPI)\n",
    "\n",
    "The **Nottingham Prognostic Index (NPI)** is a scoring system used to determine the prognosis of patients with breast cancer. It is calculated based on three key factors: the size of the tumor, the number of involved lymph nodes, and the tumor grade (which reflects how abnormal the tumor cells look under the microscope). The NPI score helps guide treatment decisions and predict the outcome for breast cancer patients.\n",
    "\n",
    "#### NPI Formula:\n",
    "\\[\n",
    "\\text{NPI} = \\left(\\text{Tumor Size (cm)} \\times 0.2\\right) + \\text{Lymph Node Stage} + \\text{Tumor Grade}\n",
    "\\]\n",
    "\n",
    "#### NPI Components:\n",
    "- **Tumor size**: The physical size of the tumor measured in centimeters.\n",
    "- **Lymph Node Stage**: The number of positive lymph nodes:\n",
    "  - 0 nodes = 1.0\n",
    "  - 1-3 nodes = 2.0\n",
    "  - 4+ nodes = 3.0\n",
    "- **Tumor Grade**: \n",
    "  - Grade 1 (Well-Differentiated) = 1.0\n",
    "  - Grade 2 (Moderately Differentiated) = 2.0\n",
    "  - Grade 3 (Poorly Differentiated) = 3.0\n",
    "\n",
    "#### NPI Interpretation:\n",
    "- **NPI ≤ 3.4**: Good prognosis (lower risk of recurrence).\n",
    "- **NPI 3.4 - 5.4**: Intermediate prognosis.\n",
    "- **NPI > 5.4**: Poor prognosis (higher risk of recurrence).\n",
    "___"
   ]
  },
  {
   "cell_type": "markdown",
   "id": "febfad0b-0a23-45f0-8d0d-65c296b6cd5c",
   "metadata": {},
   "source": [
    "### oncotree_code \n",
    "column with various values representing cancer subtypes, such as:\n",
    "\n",
    "- `IDC` (Invasive Ductal Carcinoma)\n",
    "- `MDLC` (Mixed Ductal and Lobular Carcinoma)\n",
    "- `ILC` (Invasive Lobular Carcinoma)\n",
    "- `IMMC` (Invasive Mammary Carcinoma)\n",
    "- `BREAST` (A general category for breast cancer)\n",
    "- `MBC` (Metaplastic Breast Cancer)\n",
    "- `nan` (Missing or null values)\n",
    "\n",
    "Would you like help in cleaning or analyzing this column further?\n"
   ]
  },
  {
   "cell_type": "markdown",
   "id": "0c88bb13-4e09-46ac-a72e-936a723cef15",
   "metadata": {},
   "source": [
    "### pr_status\n",
    "column, which typically refers to **Progesterone Receptor (PR) status** in breast cancer cases. The values in this column might represent whether the cancer cells have progesterone receptors, often categorized as:\n",
    "\n",
    "- `Positive` (PR+): Indicates the presence of progesterone receptors on the cancer cells.\n",
    "- `Negative` (PR-): Indicates the absence of progesterone receptors.\n",
    "- `Unknown` or `nan`: Cases where the status is not available.\n",
    "\n",
    "Would you like assistance in analyzing this column further?\n"
   ]
  },
  {
   "cell_type": "markdown",
   "id": "16f3007c-13d2-49a4-aba0-87b437c27a80",
   "metadata": {},
   "source": [
    "### The 3-gene_classifier_subtype \n",
    "typically categorizes breast cancer based on the expression of three key receptors: **Estrogen Receptor (ER)**, **Progesterone Receptor (PR)**, and **Human Epidermal Growth Factor Receptor 2 (HER2)**. These subtypes help in determining the cancer's behavior and treatment options.\n",
    "\n",
    "- `ER-/HER2-`: Refers to **Triple-Negative Breast Cancer (TNBC)**, where both ER and HER2 receptors are absent (PR is also negative by implication). These cancers tend to be more aggressive and have fewer treatment options.\n",
    "  \n",
    "- `ER+/HER2- High Prolif`: Refers to **ER-positive, HER2-negative breast cancer** with **high proliferation**. High proliferation suggests that the cancer cells are dividing rapidly, which may influence the aggressiveness of the disease and treatment decisions.\n",
    "\n",
    "- `ER+/HER2- Low Prolif`: Refers to **ER-positive, HER2-negative breast cancer** with **low proliferation**. Low proliferation means that the cancer cells are dividing more slowly, indicating a potentially less aggressive cancer.\n",
    "\n",
    "- `HER2+`: Refers to **HER2-positive breast cancer** (regardless of ER and PR status), which tends to grow and spread more quickly but can often be treated effectively with therapies targeting HER2.\n",
    "\n",
    "- `nan`: Represents missing or unavailable data for the subtype classification.\n",
    "\n",
    "This classification is important for determining the course of treatment, as different subtypes respond to different therapies.\n"
   ]
  },
  {
   "cell_type": "code",
   "execution_count": null,
   "id": "6fc0c2b0-9815-4890-b74d-8935d7f650e1",
   "metadata": {},
   "outputs": [],
   "source": []
  }
 ],
 "metadata": {
  "kernelspec": {
   "display_name": "Python (benv)",
   "language": "python",
   "name": "benv"
  },
  "language_info": {
   "codemirror_mode": {
    "name": "ipython",
    "version": 3
   },
   "file_extension": ".py",
   "mimetype": "text/x-python",
   "name": "python",
   "nbconvert_exporter": "python",
   "pygments_lexer": "ipython3",
   "version": "3.8.19"
  }
 },
 "nbformat": 4,
 "nbformat_minor": 5
}
